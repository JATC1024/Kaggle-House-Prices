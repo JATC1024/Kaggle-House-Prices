{
  "nbformat": 4,
  "nbformat_minor": 0,
  "metadata": {
    "colab": {
      "name": "Kaglge house prices.ipynb",
      "version": "0.3.2",
      "provenance": [],
      "include_colab_link": true
    },
    "kernelspec": {
      "name": "python3",
      "display_name": "Python 3"
    },
    "accelerator": "GPU"
  },
  "cells": [
    {
      "cell_type": "markdown",
      "metadata": {
        "id": "view-in-github",
        "colab_type": "text"
      },
      "source": [
        "<a href=\"https://colab.research.google.com/github/JATC1024/Kaggle-House-Prices/blob/master/Kaglge_house_prices.ipynb\" target=\"_parent\"><img src=\"https://colab.research.google.com/assets/colab-badge.svg\" alt=\"Open In Colab\"/></a>"
      ]
    },
    {
      "metadata": {
        "id": "S30VhEB93LQm",
        "colab_type": "text"
      },
      "cell_type": "markdown",
      "source": [
        "# KAGGLE HOUSE PRICES\n",
        "This notebook is an attempt to compete in [Kaggle House Prices](https://www.kaggle.com/c/house-prices-advanced-regression-techniques) competition.<br>\n",
        "The goal of the competition is to predict house prices from some provided features.<br>\n",
        "The data is collected from the competition itself."
      ]
    },
    {
      "metadata": {
        "id": "DKai9qog4Apf",
        "colab_type": "text"
      },
      "cell_type": "markdown",
      "source": [
        "## Data collection\n",
        "The train data can be found [here](http://www.kaggle.com/c/digit-recognizer/download/train.csv).<br>\n",
        "The test data can be found [here](http://www.kaggle.com/c/digit-recognizer/download/test.csv)."
      ]
    },
    {
      "metadata": {
        "id": "6-1xuVVi3IK_",
        "colab_type": "code",
        "colab": {}
      },
      "cell_type": "code",
      "source": [
        "import pandas as pd\n",
        "\n",
        "train_data = pd.read_csv(\"train.csv\")\n",
        "test_data = pd.read_csv(\"test.csv\")"
      ],
      "execution_count": 0,
      "outputs": []
    },
    {
      "metadata": {
        "id": "_iLrLN8ZBhNR",
        "colab_type": "code",
        "outputId": "74834511-af9b-4449-9785-aaf27d02bf11",
        "colab": {
          "base_uri": "https://localhost:8080/",
          "height": 253
        }
      },
      "cell_type": "code",
      "source": [
        "# Check if the collected data sets are correct\n",
        "train_data.head()"
      ],
      "execution_count": 2,
      "outputs": [
        {
          "output_type": "execute_result",
          "data": {
            "text/html": [
              "<div>\n",
              "<style scoped>\n",
              "    .dataframe tbody tr th:only-of-type {\n",
              "        vertical-align: middle;\n",
              "    }\n",
              "\n",
              "    .dataframe tbody tr th {\n",
              "        vertical-align: top;\n",
              "    }\n",
              "\n",
              "    .dataframe thead th {\n",
              "        text-align: right;\n",
              "    }\n",
              "</style>\n",
              "<table border=\"1\" class=\"dataframe\">\n",
              "  <thead>\n",
              "    <tr style=\"text-align: right;\">\n",
              "      <th></th>\n",
              "      <th>Id</th>\n",
              "      <th>MSSubClass</th>\n",
              "      <th>MSZoning</th>\n",
              "      <th>LotFrontage</th>\n",
              "      <th>LotArea</th>\n",
              "      <th>Street</th>\n",
              "      <th>Alley</th>\n",
              "      <th>LotShape</th>\n",
              "      <th>LandContour</th>\n",
              "      <th>Utilities</th>\n",
              "      <th>...</th>\n",
              "      <th>PoolArea</th>\n",
              "      <th>PoolQC</th>\n",
              "      <th>Fence</th>\n",
              "      <th>MiscFeature</th>\n",
              "      <th>MiscVal</th>\n",
              "      <th>MoSold</th>\n",
              "      <th>YrSold</th>\n",
              "      <th>SaleType</th>\n",
              "      <th>SaleCondition</th>\n",
              "      <th>SalePrice</th>\n",
              "    </tr>\n",
              "  </thead>\n",
              "  <tbody>\n",
              "    <tr>\n",
              "      <th>0</th>\n",
              "      <td>1</td>\n",
              "      <td>60</td>\n",
              "      <td>RL</td>\n",
              "      <td>65.0</td>\n",
              "      <td>8450</td>\n",
              "      <td>Pave</td>\n",
              "      <td>NaN</td>\n",
              "      <td>Reg</td>\n",
              "      <td>Lvl</td>\n",
              "      <td>AllPub</td>\n",
              "      <td>...</td>\n",
              "      <td>0</td>\n",
              "      <td>NaN</td>\n",
              "      <td>NaN</td>\n",
              "      <td>NaN</td>\n",
              "      <td>0</td>\n",
              "      <td>2</td>\n",
              "      <td>2008</td>\n",
              "      <td>WD</td>\n",
              "      <td>Normal</td>\n",
              "      <td>208500</td>\n",
              "    </tr>\n",
              "    <tr>\n",
              "      <th>1</th>\n",
              "      <td>2</td>\n",
              "      <td>20</td>\n",
              "      <td>RL</td>\n",
              "      <td>80.0</td>\n",
              "      <td>9600</td>\n",
              "      <td>Pave</td>\n",
              "      <td>NaN</td>\n",
              "      <td>Reg</td>\n",
              "      <td>Lvl</td>\n",
              "      <td>AllPub</td>\n",
              "      <td>...</td>\n",
              "      <td>0</td>\n",
              "      <td>NaN</td>\n",
              "      <td>NaN</td>\n",
              "      <td>NaN</td>\n",
              "      <td>0</td>\n",
              "      <td>5</td>\n",
              "      <td>2007</td>\n",
              "      <td>WD</td>\n",
              "      <td>Normal</td>\n",
              "      <td>181500</td>\n",
              "    </tr>\n",
              "    <tr>\n",
              "      <th>2</th>\n",
              "      <td>3</td>\n",
              "      <td>60</td>\n",
              "      <td>RL</td>\n",
              "      <td>68.0</td>\n",
              "      <td>11250</td>\n",
              "      <td>Pave</td>\n",
              "      <td>NaN</td>\n",
              "      <td>IR1</td>\n",
              "      <td>Lvl</td>\n",
              "      <td>AllPub</td>\n",
              "      <td>...</td>\n",
              "      <td>0</td>\n",
              "      <td>NaN</td>\n",
              "      <td>NaN</td>\n",
              "      <td>NaN</td>\n",
              "      <td>0</td>\n",
              "      <td>9</td>\n",
              "      <td>2008</td>\n",
              "      <td>WD</td>\n",
              "      <td>Normal</td>\n",
              "      <td>223500</td>\n",
              "    </tr>\n",
              "    <tr>\n",
              "      <th>3</th>\n",
              "      <td>4</td>\n",
              "      <td>70</td>\n",
              "      <td>RL</td>\n",
              "      <td>60.0</td>\n",
              "      <td>9550</td>\n",
              "      <td>Pave</td>\n",
              "      <td>NaN</td>\n",
              "      <td>IR1</td>\n",
              "      <td>Lvl</td>\n",
              "      <td>AllPub</td>\n",
              "      <td>...</td>\n",
              "      <td>0</td>\n",
              "      <td>NaN</td>\n",
              "      <td>NaN</td>\n",
              "      <td>NaN</td>\n",
              "      <td>0</td>\n",
              "      <td>2</td>\n",
              "      <td>2006</td>\n",
              "      <td>WD</td>\n",
              "      <td>Abnorml</td>\n",
              "      <td>140000</td>\n",
              "    </tr>\n",
              "    <tr>\n",
              "      <th>4</th>\n",
              "      <td>5</td>\n",
              "      <td>60</td>\n",
              "      <td>RL</td>\n",
              "      <td>84.0</td>\n",
              "      <td>14260</td>\n",
              "      <td>Pave</td>\n",
              "      <td>NaN</td>\n",
              "      <td>IR1</td>\n",
              "      <td>Lvl</td>\n",
              "      <td>AllPub</td>\n",
              "      <td>...</td>\n",
              "      <td>0</td>\n",
              "      <td>NaN</td>\n",
              "      <td>NaN</td>\n",
              "      <td>NaN</td>\n",
              "      <td>0</td>\n",
              "      <td>12</td>\n",
              "      <td>2008</td>\n",
              "      <td>WD</td>\n",
              "      <td>Normal</td>\n",
              "      <td>250000</td>\n",
              "    </tr>\n",
              "  </tbody>\n",
              "</table>\n",
              "<p>5 rows × 81 columns</p>\n",
              "</div>"
            ],
            "text/plain": [
              "   Id  MSSubClass MSZoning  LotFrontage  LotArea Street Alley LotShape  \\\n",
              "0   1          60       RL         65.0     8450   Pave   NaN      Reg   \n",
              "1   2          20       RL         80.0     9600   Pave   NaN      Reg   \n",
              "2   3          60       RL         68.0    11250   Pave   NaN      IR1   \n",
              "3   4          70       RL         60.0     9550   Pave   NaN      IR1   \n",
              "4   5          60       RL         84.0    14260   Pave   NaN      IR1   \n",
              "\n",
              "  LandContour Utilities    ...     PoolArea PoolQC Fence MiscFeature MiscVal  \\\n",
              "0         Lvl    AllPub    ...            0    NaN   NaN         NaN       0   \n",
              "1         Lvl    AllPub    ...            0    NaN   NaN         NaN       0   \n",
              "2         Lvl    AllPub    ...            0    NaN   NaN         NaN       0   \n",
              "3         Lvl    AllPub    ...            0    NaN   NaN         NaN       0   \n",
              "4         Lvl    AllPub    ...            0    NaN   NaN         NaN       0   \n",
              "\n",
              "  MoSold YrSold  SaleType  SaleCondition  SalePrice  \n",
              "0      2   2008        WD         Normal     208500  \n",
              "1      5   2007        WD         Normal     181500  \n",
              "2      9   2008        WD         Normal     223500  \n",
              "3      2   2006        WD        Abnorml     140000  \n",
              "4     12   2008        WD         Normal     250000  \n",
              "\n",
              "[5 rows x 81 columns]"
            ]
          },
          "metadata": {
            "tags": []
          },
          "execution_count": 2
        }
      ]
    },
    {
      "metadata": {
        "id": "900hVb3PB1mJ",
        "colab_type": "code",
        "outputId": "ad719b10-527e-4d82-c2c5-b8f0c384d652",
        "colab": {
          "base_uri": "https://localhost:8080/",
          "height": 253
        }
      },
      "cell_type": "code",
      "source": [
        "test_data.head()"
      ],
      "execution_count": 3,
      "outputs": [
        {
          "output_type": "execute_result",
          "data": {
            "text/html": [
              "<div>\n",
              "<style scoped>\n",
              "    .dataframe tbody tr th:only-of-type {\n",
              "        vertical-align: middle;\n",
              "    }\n",
              "\n",
              "    .dataframe tbody tr th {\n",
              "        vertical-align: top;\n",
              "    }\n",
              "\n",
              "    .dataframe thead th {\n",
              "        text-align: right;\n",
              "    }\n",
              "</style>\n",
              "<table border=\"1\" class=\"dataframe\">\n",
              "  <thead>\n",
              "    <tr style=\"text-align: right;\">\n",
              "      <th></th>\n",
              "      <th>Id</th>\n",
              "      <th>MSSubClass</th>\n",
              "      <th>MSZoning</th>\n",
              "      <th>LotFrontage</th>\n",
              "      <th>LotArea</th>\n",
              "      <th>Street</th>\n",
              "      <th>Alley</th>\n",
              "      <th>LotShape</th>\n",
              "      <th>LandContour</th>\n",
              "      <th>Utilities</th>\n",
              "      <th>...</th>\n",
              "      <th>ScreenPorch</th>\n",
              "      <th>PoolArea</th>\n",
              "      <th>PoolQC</th>\n",
              "      <th>Fence</th>\n",
              "      <th>MiscFeature</th>\n",
              "      <th>MiscVal</th>\n",
              "      <th>MoSold</th>\n",
              "      <th>YrSold</th>\n",
              "      <th>SaleType</th>\n",
              "      <th>SaleCondition</th>\n",
              "    </tr>\n",
              "  </thead>\n",
              "  <tbody>\n",
              "    <tr>\n",
              "      <th>0</th>\n",
              "      <td>1461</td>\n",
              "      <td>20</td>\n",
              "      <td>RH</td>\n",
              "      <td>80.0</td>\n",
              "      <td>11622</td>\n",
              "      <td>Pave</td>\n",
              "      <td>NaN</td>\n",
              "      <td>Reg</td>\n",
              "      <td>Lvl</td>\n",
              "      <td>AllPub</td>\n",
              "      <td>...</td>\n",
              "      <td>120</td>\n",
              "      <td>0</td>\n",
              "      <td>NaN</td>\n",
              "      <td>MnPrv</td>\n",
              "      <td>NaN</td>\n",
              "      <td>0</td>\n",
              "      <td>6</td>\n",
              "      <td>2010</td>\n",
              "      <td>WD</td>\n",
              "      <td>Normal</td>\n",
              "    </tr>\n",
              "    <tr>\n",
              "      <th>1</th>\n",
              "      <td>1462</td>\n",
              "      <td>20</td>\n",
              "      <td>RL</td>\n",
              "      <td>81.0</td>\n",
              "      <td>14267</td>\n",
              "      <td>Pave</td>\n",
              "      <td>NaN</td>\n",
              "      <td>IR1</td>\n",
              "      <td>Lvl</td>\n",
              "      <td>AllPub</td>\n",
              "      <td>...</td>\n",
              "      <td>0</td>\n",
              "      <td>0</td>\n",
              "      <td>NaN</td>\n",
              "      <td>NaN</td>\n",
              "      <td>Gar2</td>\n",
              "      <td>12500</td>\n",
              "      <td>6</td>\n",
              "      <td>2010</td>\n",
              "      <td>WD</td>\n",
              "      <td>Normal</td>\n",
              "    </tr>\n",
              "    <tr>\n",
              "      <th>2</th>\n",
              "      <td>1463</td>\n",
              "      <td>60</td>\n",
              "      <td>RL</td>\n",
              "      <td>74.0</td>\n",
              "      <td>13830</td>\n",
              "      <td>Pave</td>\n",
              "      <td>NaN</td>\n",
              "      <td>IR1</td>\n",
              "      <td>Lvl</td>\n",
              "      <td>AllPub</td>\n",
              "      <td>...</td>\n",
              "      <td>0</td>\n",
              "      <td>0</td>\n",
              "      <td>NaN</td>\n",
              "      <td>MnPrv</td>\n",
              "      <td>NaN</td>\n",
              "      <td>0</td>\n",
              "      <td>3</td>\n",
              "      <td>2010</td>\n",
              "      <td>WD</td>\n",
              "      <td>Normal</td>\n",
              "    </tr>\n",
              "    <tr>\n",
              "      <th>3</th>\n",
              "      <td>1464</td>\n",
              "      <td>60</td>\n",
              "      <td>RL</td>\n",
              "      <td>78.0</td>\n",
              "      <td>9978</td>\n",
              "      <td>Pave</td>\n",
              "      <td>NaN</td>\n",
              "      <td>IR1</td>\n",
              "      <td>Lvl</td>\n",
              "      <td>AllPub</td>\n",
              "      <td>...</td>\n",
              "      <td>0</td>\n",
              "      <td>0</td>\n",
              "      <td>NaN</td>\n",
              "      <td>NaN</td>\n",
              "      <td>NaN</td>\n",
              "      <td>0</td>\n",
              "      <td>6</td>\n",
              "      <td>2010</td>\n",
              "      <td>WD</td>\n",
              "      <td>Normal</td>\n",
              "    </tr>\n",
              "    <tr>\n",
              "      <th>4</th>\n",
              "      <td>1465</td>\n",
              "      <td>120</td>\n",
              "      <td>RL</td>\n",
              "      <td>43.0</td>\n",
              "      <td>5005</td>\n",
              "      <td>Pave</td>\n",
              "      <td>NaN</td>\n",
              "      <td>IR1</td>\n",
              "      <td>HLS</td>\n",
              "      <td>AllPub</td>\n",
              "      <td>...</td>\n",
              "      <td>144</td>\n",
              "      <td>0</td>\n",
              "      <td>NaN</td>\n",
              "      <td>NaN</td>\n",
              "      <td>NaN</td>\n",
              "      <td>0</td>\n",
              "      <td>1</td>\n",
              "      <td>2010</td>\n",
              "      <td>WD</td>\n",
              "      <td>Normal</td>\n",
              "    </tr>\n",
              "  </tbody>\n",
              "</table>\n",
              "<p>5 rows × 80 columns</p>\n",
              "</div>"
            ],
            "text/plain": [
              "     Id  MSSubClass MSZoning  LotFrontage  LotArea Street Alley LotShape  \\\n",
              "0  1461          20       RH         80.0    11622   Pave   NaN      Reg   \n",
              "1  1462          20       RL         81.0    14267   Pave   NaN      IR1   \n",
              "2  1463          60       RL         74.0    13830   Pave   NaN      IR1   \n",
              "3  1464          60       RL         78.0     9978   Pave   NaN      IR1   \n",
              "4  1465         120       RL         43.0     5005   Pave   NaN      IR1   \n",
              "\n",
              "  LandContour Utilities      ...       ScreenPorch PoolArea PoolQC  Fence  \\\n",
              "0         Lvl    AllPub      ...               120        0    NaN  MnPrv   \n",
              "1         Lvl    AllPub      ...                 0        0    NaN    NaN   \n",
              "2         Lvl    AllPub      ...                 0        0    NaN  MnPrv   \n",
              "3         Lvl    AllPub      ...                 0        0    NaN    NaN   \n",
              "4         HLS    AllPub      ...               144        0    NaN    NaN   \n",
              "\n",
              "  MiscFeature MiscVal MoSold  YrSold  SaleType  SaleCondition  \n",
              "0         NaN       0      6    2010        WD         Normal  \n",
              "1        Gar2   12500      6    2010        WD         Normal  \n",
              "2         NaN       0      3    2010        WD         Normal  \n",
              "3         NaN       0      6    2010        WD         Normal  \n",
              "4         NaN       0      1    2010        WD         Normal  \n",
              "\n",
              "[5 rows x 80 columns]"
            ]
          },
          "metadata": {
            "tags": []
          },
          "execution_count": 3
        }
      ]
    },
    {
      "metadata": {
        "id": "qvKvcS65CXxm",
        "colab_type": "text"
      },
      "cell_type": "markdown",
      "source": [
        "## Data understanding\n",
        "Now we're going to discover some insights about the data to get better understanding. Some steps we can follow:\n",
        "1. Make an investigation on the data description provided by Kaggle.\n",
        "2. Visualize the data.\n",
        "\n",
        "**Note**: The following code requires **train.csv**, **test.csv**, **data_description.txt** and **brief.txt** are placed in the current directory."
      ]
    },
    {
      "metadata": {
        "id": "-O45Pl9WIdtR",
        "colab_type": "text"
      },
      "cell_type": "markdown",
      "source": [
        "**How big is the data**<br>\n",
        "It's good to see how big the data we're dealing with."
      ]
    },
    {
      "metadata": {
        "id": "WKs-nRiXJE4I",
        "colab_type": "code",
        "outputId": "da90e220-820b-4c94-b5e3-95a8d694b99b",
        "colab": {
          "base_uri": "https://localhost:8080/",
          "height": 34
        }
      },
      "cell_type": "code",
      "source": [
        "train_data.shape"
      ],
      "execution_count": 4,
      "outputs": [
        {
          "output_type": "execute_result",
          "data": {
            "text/plain": [
              "(1460, 81)"
            ]
          },
          "metadata": {
            "tags": []
          },
          "execution_count": 4
        }
      ]
    },
    {
      "metadata": {
        "id": "r0m643vPJIom",
        "colab_type": "text"
      },
      "cell_type": "markdown",
      "source": [
        "As we can see, the data contains 1460 observations along with 81 features, which is a lot of features. So let's slowly and carefully extract each feature."
      ]
    },
    {
      "metadata": {
        "id": "13J8dJVjEKIS",
        "colab_type": "text"
      },
      "cell_type": "markdown",
      "source": [
        "**Let's take a look on the data description:**<br>\n",
        "A brief description:"
      ]
    },
    {
      "metadata": {
        "id": "thwTpBQiGw1j",
        "colab_type": "code",
        "outputId": "0402ea94-c240-470e-e523-6ae6ccbf3ce6",
        "colab": {
          "base_uri": "https://localhost:8080/",
          "height": 1411
        }
      },
      "cell_type": "code",
      "source": [
        "with open(\"brief.txt\") as file:\n",
        "  print(file.read())"
      ],
      "execution_count": 5,
      "outputs": [
        {
          "output_type": "stream",
          "text": [
            "Here's a brief version of what you'll find in the data description file.\n",
            "\n",
            "SalePrice - the property's sale price in dollars. This is the target variable that you're trying to predict.\n",
            "MSSubClass: The building class\n",
            "MSZoning: The general zoning classification\n",
            "LotFrontage: Linear feet of street connected to property\n",
            "LotArea: Lot size in square feet\n",
            "Street: Type of road access\n",
            "Alley: Type of alley access\n",
            "LotShape: General shape of property\n",
            "LandContour: Flatness of the property\n",
            "Utilities: Type of utilities available\n",
            "LotConfig: Lot configuration\n",
            "LandSlope: Slope of property\n",
            "Neighborhood: Physical locations within Ames city limits\n",
            "Condition1: Proximity to main road or railroad\n",
            "Condition2: Proximity to main road or railroad (if a second is present)\n",
            "BldgType: Type of dwelling\n",
            "HouseStyle: Style of dwelling\n",
            "OverallQual: Overall material and finish quality\n",
            "OverallCond: Overall condition rating\n",
            "YearBuilt: Original construction date\n",
            "YearRemodAdd: Remodel date\n",
            "RoofStyle: Type of roof\n",
            "RoofMatl: Roof material\n",
            "Exterior1st: Exterior covering on house\n",
            "Exterior2nd: Exterior covering on house (if more than one material)\n",
            "MasVnrType: Masonry veneer type\n",
            "MasVnrArea: Masonry veneer area in square feet\n",
            "ExterQual: Exterior material quality\n",
            "ExterCond: Present condition of the material on the exterior\n",
            "Foundation: Type of foundation\n",
            "BsmtQual: Height of the basement\n",
            "BsmtCond: General condition of the basement\n",
            "BsmtExposure: Walkout or garden level basement walls\n",
            "BsmtFinType1: Quality of basement finished area\n",
            "BsmtFinSF1: Type 1 finished square feet\n",
            "BsmtFinType2: Quality of second finished area (if present)\n",
            "BsmtFinSF2: Type 2 finished square feet\n",
            "BsmtUnfSF: Unfinished square feet of basement area\n",
            "TotalBsmtSF: Total square feet of basement area\n",
            "Heating: Type of heating\n",
            "HeatingQC: Heating quality and condition\n",
            "CentralAir: Central air conditioning\n",
            "Electrical: Electrical system\n",
            "1stFlrSF: First Floor square feet\n",
            "2ndFlrSF: Second floor square feet\n",
            "LowQualFinSF: Low quality finished square feet (all floors)\n",
            "GrLivArea: Above grade (ground) living area square feet\n",
            "BsmtFullBath: Basement full bathrooms\n",
            "BsmtHalfBath: Basement half bathrooms\n",
            "FullBath: Full bathrooms above grade\n",
            "HalfBath: Half baths above grade\n",
            "Bedroom: Number of bedrooms above basement level\n",
            "Kitchen: Number of kitchens\n",
            "KitchenQual: Kitchen quality\n",
            "TotRmsAbvGrd: Total rooms above grade (does not include bathrooms)\n",
            "Functional: Home functionality rating\n",
            "Fireplaces: Number of fireplaces\n",
            "FireplaceQu: Fireplace quality\n",
            "GarageType: Garage location\n",
            "GarageYrBlt: Year garage was built\n",
            "GarageFinish: Interior finish of the garage\n",
            "GarageCars: Size of garage in car capacity\n",
            "GarageArea: Size of garage in square feet\n",
            "GarageQual: Garage quality\n",
            "GarageCond: Garage condition\n",
            "PavedDrive: Paved driveway\n",
            "WoodDeckSF: Wood deck area in square feet\n",
            "OpenPorchSF: Open porch area in square feet\n",
            "EnclosedPorch: Enclosed porch area in square feet\n",
            "3SsnPorch: Three season porch area in square feet\n",
            "ScreenPorch: Screen porch area in square feet\n",
            "PoolArea: Pool area in square feet\n",
            "PoolQC: Pool quality\n",
            "Fence: Fence quality\n",
            "MiscFeature: Miscellaneous feature not covered in other categories\n",
            "MiscVal: $Value of miscellaneous feature\n",
            "MoSold: Month Sold\n",
            "YrSold: Year Sold\n",
            "SaleType: Type of sale\n",
            "SaleCondition: Condition of sale\n"
          ],
          "name": "stdout"
        }
      ]
    },
    {
      "metadata": {
        "id": "X_ZpVcdzG5YU",
        "colab_type": "text"
      },
      "cell_type": "markdown",
      "source": [
        "Since the detailed description is rather long, we will not show it here. Instead, let's make a function to get the details along with some statistical characteristics of each feature. When we want to learn more about a feature showed in the brief description, we just need to call the function."
      ]
    },
    {
      "metadata": {
        "id": "tV_KNscCGV_W",
        "colab_type": "code",
        "colab": {}
      },
      "cell_type": "code",
      "source": [
        "import re\n",
        "\n",
        "def describe_feature(feature, data = train_data):\n",
        "  # Describe the data  \n",
        "  print(data[feature].describe())\n",
        "  # Check for missing values:\n",
        "  missing_values = data[feature].isnull()\n",
        "  print(\"Missing values:\")\n",
        "  print(missing_values.value_counts())\n",
        "\n",
        "def show_details(feature, data = train_data):\n",
        "  with open(\"data_description.txt\", \"r\") as file:\n",
        "    lines = file.readlines()\n",
        "    \n",
        "  # Define a regular expression:\n",
        "  pattern = re.compile(\"[a-z,A-Z].+:.+\")\n",
        "  flag = False # A flag that checks if we have found the wanted feature or not.\n",
        "  for index, line in enumerate(lines):         \n",
        "    if pattern.match(line):\n",
        "      cur_feature, des = line.split(\": \")\n",
        "      if cur_feature.lower() == feature.lower():\n",
        "        flag = True # Turn on the flag\n",
        "        print(\"Feature name: \", cur_feature)\n",
        "        print(\"Description: \", des)\n",
        "        print(\"Values: \")\n",
        "      else:        \n",
        "        flag = False\n",
        "    elif flag:\n",
        "      print(line)\n",
        "      \n",
        "  describe_feature(feature, data)"
      ],
      "execution_count": 0,
      "outputs": []
    },
    {
      "metadata": {
        "id": "ERaWRmUNFGww",
        "colab_type": "text"
      },
      "cell_type": "markdown",
      "source": [
        "We will learn about the features in the following cell. Simply change the feature name for whatever you want to learn about."
      ]
    },
    {
      "metadata": {
        "id": "lqKTgiBgEIbT",
        "colab_type": "code",
        "outputId": "8c7c05cd-3444-40e1-a76a-3038c0f7a493",
        "colab": {
          "base_uri": "https://localhost:8080/",
          "height": 323
        }
      },
      "cell_type": "code",
      "source": [
        "show_details(\"PoolArea\")"
      ],
      "execution_count": 7,
      "outputs": [
        {
          "output_type": "stream",
          "text": [
            "Feature name:  PoolArea\n",
            "Description:  Pool area in square feet\n",
            "\n",
            "Values: \n",
            "\n",
            "\n",
            "count    1460.000000\n",
            "mean        2.758904\n",
            "std        40.177307\n",
            "min         0.000000\n",
            "25%         0.000000\n",
            "50%         0.000000\n",
            "75%         0.000000\n",
            "max       738.000000\n",
            "Name: PoolArea, dtype: float64\n",
            "Missing values:\n",
            "False    1460\n",
            "Name: PoolArea, dtype: int64\n"
          ],
          "name": "stdout"
        }
      ]
    },
    {
      "metadata": {
        "id": "ynw9bWNSku1C",
        "colab_type": "text"
      },
      "cell_type": "markdown",
      "source": [
        "At this point, we only need to have a basic understanding on what the data set represents. The details will be disscussed when we investigate on each individual feature.\n",
        "<hr>"
      ]
    },
    {
      "metadata": {
        "id": "b2wk2l-GkXdz",
        "colab_type": "text"
      },
      "cell_type": "markdown",
      "source": [
        "## Data preparation\n",
        "The ultimate goal of data preparation is to make data  more informative so that our model can make use of the data effectively. There are several jobs invovled in this process, namely:\n",
        "* Dealing with missing values\n",
        "* Data normalization\n",
        "* Represent data in informative format\n",
        "\n",
        "We will work with the features one by one and make decision on each of them.<br>\n",
        "\n",
        "**First let's see which features are available:**"
      ]
    },
    {
      "metadata": {
        "id": "gnhhRz7I9cGw",
        "colab_type": "code",
        "colab": {
          "base_uri": "https://localhost:8080/",
          "height": 340
        },
        "outputId": "7d4d2a2d-e792-4e61-c1be-63b8ff6277e4"
      },
      "cell_type": "code",
      "source": [
        "train_data.columns.values"
      ],
      "execution_count": 8,
      "outputs": [
        {
          "output_type": "execute_result",
          "data": {
            "text/plain": [
              "array(['Id', 'MSSubClass', 'MSZoning', 'LotFrontage', 'LotArea', 'Street',\n",
              "       'Alley', 'LotShape', 'LandContour', 'Utilities', 'LotConfig',\n",
              "       'LandSlope', 'Neighborhood', 'Condition1', 'Condition2',\n",
              "       'BldgType', 'HouseStyle', 'OverallQual', 'OverallCond',\n",
              "       'YearBuilt', 'YearRemodAdd', 'RoofStyle', 'RoofMatl',\n",
              "       'Exterior1st', 'Exterior2nd', 'MasVnrType', 'MasVnrArea',\n",
              "       'ExterQual', 'ExterCond', 'Foundation', 'BsmtQual', 'BsmtCond',\n",
              "       'BsmtExposure', 'BsmtFinType1', 'BsmtFinSF1', 'BsmtFinType2',\n",
              "       'BsmtFinSF2', 'BsmtUnfSF', 'TotalBsmtSF', 'Heating', 'HeatingQC',\n",
              "       'CentralAir', 'Electrical', '1stFlrSF', '2ndFlrSF', 'LowQualFinSF',\n",
              "       'GrLivArea', 'BsmtFullBath', 'BsmtHalfBath', 'FullBath',\n",
              "       'HalfBath', 'BedroomAbvGr', 'KitchenAbvGr', 'KitchenQual',\n",
              "       'TotRmsAbvGrd', 'Functional', 'Fireplaces', 'FireplaceQu',\n",
              "       'GarageType', 'GarageYrBlt', 'GarageFinish', 'GarageCars',\n",
              "       'GarageArea', 'GarageQual', 'GarageCond', 'PavedDrive',\n",
              "       'WoodDeckSF', 'OpenPorchSF', 'EnclosedPorch', '3SsnPorch',\n",
              "       'ScreenPorch', 'PoolArea', 'PoolQC', 'Fence', 'MiscFeature',\n",
              "       'MiscVal', 'MoSold', 'YrSold', 'SaleType', 'SaleCondition',\n",
              "       'SalePrice'], dtype=object)"
            ]
          },
          "metadata": {
            "tags": []
          },
          "execution_count": 8
        }
      ]
    },
    {
      "metadata": {
        "id": "Tu8_L_-4AA-T",
        "colab_type": "text"
      },
      "cell_type": "markdown",
      "source": [
        "**Copy the data**<br>\n",
        "We may want to copy the train data to another dataframe and work on it instead of the original data."
      ]
    },
    {
      "metadata": {
        "id": "WWeYDMOAAcpQ",
        "colab_type": "code",
        "colab": {
          "base_uri": "https://localhost:8080/",
          "height": 270
        },
        "outputId": "2a7cd888-bf55-407d-f0d5-23a2044528b8"
      },
      "cell_type": "code",
      "source": [
        "train_examples = train_data.copy()\n",
        "print(train_examples is train_data)\n",
        "train_examples.head()"
      ],
      "execution_count": 9,
      "outputs": [
        {
          "output_type": "stream",
          "text": [
            "False\n"
          ],
          "name": "stdout"
        },
        {
          "output_type": "execute_result",
          "data": {
            "text/html": [
              "<div>\n",
              "<style scoped>\n",
              "    .dataframe tbody tr th:only-of-type {\n",
              "        vertical-align: middle;\n",
              "    }\n",
              "\n",
              "    .dataframe tbody tr th {\n",
              "        vertical-align: top;\n",
              "    }\n",
              "\n",
              "    .dataframe thead th {\n",
              "        text-align: right;\n",
              "    }\n",
              "</style>\n",
              "<table border=\"1\" class=\"dataframe\">\n",
              "  <thead>\n",
              "    <tr style=\"text-align: right;\">\n",
              "      <th></th>\n",
              "      <th>Id</th>\n",
              "      <th>MSSubClass</th>\n",
              "      <th>MSZoning</th>\n",
              "      <th>LotFrontage</th>\n",
              "      <th>LotArea</th>\n",
              "      <th>Street</th>\n",
              "      <th>Alley</th>\n",
              "      <th>LotShape</th>\n",
              "      <th>LandContour</th>\n",
              "      <th>Utilities</th>\n",
              "      <th>...</th>\n",
              "      <th>PoolArea</th>\n",
              "      <th>PoolQC</th>\n",
              "      <th>Fence</th>\n",
              "      <th>MiscFeature</th>\n",
              "      <th>MiscVal</th>\n",
              "      <th>MoSold</th>\n",
              "      <th>YrSold</th>\n",
              "      <th>SaleType</th>\n",
              "      <th>SaleCondition</th>\n",
              "      <th>SalePrice</th>\n",
              "    </tr>\n",
              "  </thead>\n",
              "  <tbody>\n",
              "    <tr>\n",
              "      <th>0</th>\n",
              "      <td>1</td>\n",
              "      <td>60</td>\n",
              "      <td>RL</td>\n",
              "      <td>65.0</td>\n",
              "      <td>8450</td>\n",
              "      <td>Pave</td>\n",
              "      <td>NaN</td>\n",
              "      <td>Reg</td>\n",
              "      <td>Lvl</td>\n",
              "      <td>AllPub</td>\n",
              "      <td>...</td>\n",
              "      <td>0</td>\n",
              "      <td>NaN</td>\n",
              "      <td>NaN</td>\n",
              "      <td>NaN</td>\n",
              "      <td>0</td>\n",
              "      <td>2</td>\n",
              "      <td>2008</td>\n",
              "      <td>WD</td>\n",
              "      <td>Normal</td>\n",
              "      <td>208500</td>\n",
              "    </tr>\n",
              "    <tr>\n",
              "      <th>1</th>\n",
              "      <td>2</td>\n",
              "      <td>20</td>\n",
              "      <td>RL</td>\n",
              "      <td>80.0</td>\n",
              "      <td>9600</td>\n",
              "      <td>Pave</td>\n",
              "      <td>NaN</td>\n",
              "      <td>Reg</td>\n",
              "      <td>Lvl</td>\n",
              "      <td>AllPub</td>\n",
              "      <td>...</td>\n",
              "      <td>0</td>\n",
              "      <td>NaN</td>\n",
              "      <td>NaN</td>\n",
              "      <td>NaN</td>\n",
              "      <td>0</td>\n",
              "      <td>5</td>\n",
              "      <td>2007</td>\n",
              "      <td>WD</td>\n",
              "      <td>Normal</td>\n",
              "      <td>181500</td>\n",
              "    </tr>\n",
              "    <tr>\n",
              "      <th>2</th>\n",
              "      <td>3</td>\n",
              "      <td>60</td>\n",
              "      <td>RL</td>\n",
              "      <td>68.0</td>\n",
              "      <td>11250</td>\n",
              "      <td>Pave</td>\n",
              "      <td>NaN</td>\n",
              "      <td>IR1</td>\n",
              "      <td>Lvl</td>\n",
              "      <td>AllPub</td>\n",
              "      <td>...</td>\n",
              "      <td>0</td>\n",
              "      <td>NaN</td>\n",
              "      <td>NaN</td>\n",
              "      <td>NaN</td>\n",
              "      <td>0</td>\n",
              "      <td>9</td>\n",
              "      <td>2008</td>\n",
              "      <td>WD</td>\n",
              "      <td>Normal</td>\n",
              "      <td>223500</td>\n",
              "    </tr>\n",
              "    <tr>\n",
              "      <th>3</th>\n",
              "      <td>4</td>\n",
              "      <td>70</td>\n",
              "      <td>RL</td>\n",
              "      <td>60.0</td>\n",
              "      <td>9550</td>\n",
              "      <td>Pave</td>\n",
              "      <td>NaN</td>\n",
              "      <td>IR1</td>\n",
              "      <td>Lvl</td>\n",
              "      <td>AllPub</td>\n",
              "      <td>...</td>\n",
              "      <td>0</td>\n",
              "      <td>NaN</td>\n",
              "      <td>NaN</td>\n",
              "      <td>NaN</td>\n",
              "      <td>0</td>\n",
              "      <td>2</td>\n",
              "      <td>2006</td>\n",
              "      <td>WD</td>\n",
              "      <td>Abnorml</td>\n",
              "      <td>140000</td>\n",
              "    </tr>\n",
              "    <tr>\n",
              "      <th>4</th>\n",
              "      <td>5</td>\n",
              "      <td>60</td>\n",
              "      <td>RL</td>\n",
              "      <td>84.0</td>\n",
              "      <td>14260</td>\n",
              "      <td>Pave</td>\n",
              "      <td>NaN</td>\n",
              "      <td>IR1</td>\n",
              "      <td>Lvl</td>\n",
              "      <td>AllPub</td>\n",
              "      <td>...</td>\n",
              "      <td>0</td>\n",
              "      <td>NaN</td>\n",
              "      <td>NaN</td>\n",
              "      <td>NaN</td>\n",
              "      <td>0</td>\n",
              "      <td>12</td>\n",
              "      <td>2008</td>\n",
              "      <td>WD</td>\n",
              "      <td>Normal</td>\n",
              "      <td>250000</td>\n",
              "    </tr>\n",
              "  </tbody>\n",
              "</table>\n",
              "<p>5 rows × 81 columns</p>\n",
              "</div>"
            ],
            "text/plain": [
              "   Id  MSSubClass MSZoning  LotFrontage  LotArea Street Alley LotShape  \\\n",
              "0   1          60       RL         65.0     8450   Pave   NaN      Reg   \n",
              "1   2          20       RL         80.0     9600   Pave   NaN      Reg   \n",
              "2   3          60       RL         68.0    11250   Pave   NaN      IR1   \n",
              "3   4          70       RL         60.0     9550   Pave   NaN      IR1   \n",
              "4   5          60       RL         84.0    14260   Pave   NaN      IR1   \n",
              "\n",
              "  LandContour Utilities    ...     PoolArea PoolQC Fence MiscFeature MiscVal  \\\n",
              "0         Lvl    AllPub    ...            0    NaN   NaN         NaN       0   \n",
              "1         Lvl    AllPub    ...            0    NaN   NaN         NaN       0   \n",
              "2         Lvl    AllPub    ...            0    NaN   NaN         NaN       0   \n",
              "3         Lvl    AllPub    ...            0    NaN   NaN         NaN       0   \n",
              "4         Lvl    AllPub    ...            0    NaN   NaN         NaN       0   \n",
              "\n",
              "  MoSold YrSold  SaleType  SaleCondition  SalePrice  \n",
              "0      2   2008        WD         Normal     208500  \n",
              "1      5   2007        WD         Normal     181500  \n",
              "2      9   2008        WD         Normal     223500  \n",
              "3      2   2006        WD        Abnorml     140000  \n",
              "4     12   2008        WD         Normal     250000  \n",
              "\n",
              "[5 rows x 81 columns]"
            ]
          },
          "metadata": {
            "tags": []
          },
          "execution_count": 9
        }
      ]
    },
    {
      "metadata": {
        "id": "I2FhTwykM9fT",
        "colab_type": "text"
      },
      "cell_type": "markdown",
      "source": [
        "**Import needed libraries**"
      ]
    },
    {
      "metadata": {
        "id": "clFOVtLaM7gD",
        "colab_type": "code",
        "colab": {
          "base_uri": "https://localhost:8080/",
          "height": 241
        },
        "outputId": "a050ac25-907f-4ef5-a430-d898522728c0"
      },
      "cell_type": "code",
      "source": [
        "!pip install seaborn==0.9.0\n",
        "import seaborn as sns\n",
        "import matplotlib\n",
        "from matplotlib import pyplot as plt"
      ],
      "execution_count": 10,
      "outputs": [
        {
          "output_type": "stream",
          "text": [
            "Requirement already satisfied: seaborn==0.9.0 in /usr/local/lib/python3.6/dist-packages (0.9.0)\n",
            "Requirement already satisfied: numpy>=1.9.3 in /usr/local/lib/python3.6/dist-packages (from seaborn==0.9.0) (1.14.6)\n",
            "Requirement already satisfied: pandas>=0.15.2 in /usr/local/lib/python3.6/dist-packages (from seaborn==0.9.0) (0.22.0)\n",
            "Requirement already satisfied: scipy>=0.14.0 in /usr/local/lib/python3.6/dist-packages (from seaborn==0.9.0) (1.1.0)\n",
            "Requirement already satisfied: matplotlib>=1.4.3 in /usr/local/lib/python3.6/dist-packages (from seaborn==0.9.0) (3.0.2)\n",
            "Requirement already satisfied: pytz>=2011k in /usr/local/lib/python3.6/dist-packages (from pandas>=0.15.2->seaborn==0.9.0) (2018.9)\n",
            "Requirement already satisfied: python-dateutil>=2 in /usr/local/lib/python3.6/dist-packages (from pandas>=0.15.2->seaborn==0.9.0) (2.5.3)\n",
            "Requirement already satisfied: pyparsing!=2.0.4,!=2.1.2,!=2.1.6,>=2.0.1 in /usr/local/lib/python3.6/dist-packages (from matplotlib>=1.4.3->seaborn==0.9.0) (2.3.1)\n",
            "Requirement already satisfied: cycler>=0.10 in /usr/local/lib/python3.6/dist-packages (from matplotlib>=1.4.3->seaborn==0.9.0) (0.10.0)\n",
            "Requirement already satisfied: kiwisolver>=1.0.1 in /usr/local/lib/python3.6/dist-packages (from matplotlib>=1.4.3->seaborn==0.9.0) (1.0.1)\n",
            "Requirement already satisfied: six>=1.5 in /usr/local/lib/python3.6/dist-packages (from python-dateutil>=2->pandas>=0.15.2->seaborn==0.9.0) (1.11.0)\n",
            "Requirement already satisfied: setuptools in /usr/local/lib/python3.6/dist-packages (from kiwisolver>=1.0.1->matplotlib>=1.4.3->seaborn==0.9.0) (40.8.0)\n"
          ],
          "name": "stdout"
        }
      ]
    },
    {
      "metadata": {
        "id": "2JcjET069KTh",
        "colab_type": "text"
      },
      "cell_type": "markdown",
      "source": [
        "### MSSubClass"
      ]
    },
    {
      "metadata": {
        "id": "P2OgE698-kcs",
        "colab_type": "code",
        "colab": {
          "base_uri": "https://localhost:8080/",
          "height": 0
        },
        "outputId": "e47bb198-23ee-472c-be2b-01e6bb9cdbfb"
      },
      "cell_type": "code",
      "source": [
        "# Take a look at the feature:\n",
        "show_details(\"MSSubClass\")"
      ],
      "execution_count": 11,
      "outputs": [
        {
          "output_type": "stream",
          "text": [
            "Feature name:  MSSubClass\n",
            "Description:  Identifies the type of dwelling involved in the sale.\t\n",
            "\n",
            "Values: \n",
            "\n",
            "\n",
            "        20\t1-STORY 1946 & NEWER ALL STYLES\n",
            "\n",
            "        30\t1-STORY 1945 & OLDER\n",
            "\n",
            "        40\t1-STORY W/FINISHED ATTIC ALL AGES\n",
            "\n",
            "        45\t1-1/2 STORY - UNFINISHED ALL AGES\n",
            "\n",
            "        50\t1-1/2 STORY FINISHED ALL AGES\n",
            "\n",
            "        60\t2-STORY 1946 & NEWER\n",
            "\n",
            "        70\t2-STORY 1945 & OLDER\n",
            "\n",
            "        75\t2-1/2 STORY ALL AGES\n",
            "\n",
            "        80\tSPLIT OR MULTI-LEVEL\n",
            "\n",
            "        85\tSPLIT FOYER\n",
            "\n",
            "        90\tDUPLEX - ALL STYLES AND AGES\n",
            "\n",
            "       120\t1-STORY PUD (Planned Unit Development) - 1946 & NEWER\n",
            "\n",
            "       150\t1-1/2 STORY PUD - ALL AGES\n",
            "\n",
            "       160\t2-STORY PUD - 1946 & NEWER\n",
            "\n",
            "       180\tPUD - MULTILEVEL - INCL SPLIT LEV/FOYER\n",
            "\n",
            "       190\t2 FAMILY CONVERSION - ALL STYLES AND AGES\n",
            "\n",
            "\n",
            "\n",
            "count    1460.000000\n",
            "mean       56.897260\n",
            "std        42.300571\n",
            "min        20.000000\n",
            "25%        20.000000\n",
            "50%        50.000000\n",
            "75%        70.000000\n",
            "max       190.000000\n",
            "Name: MSSubClass, dtype: float64\n",
            "Missing values:\n",
            "False    1460\n",
            "Name: MSSubClass, dtype: int64\n"
          ],
          "name": "stdout"
        }
      ]
    },
    {
      "metadata": {
        "id": "LSNyW9UI_BYG",
        "colab_type": "text"
      },
      "cell_type": "markdown",
      "source": [
        "From the description we can see that the feature is categorical, even though its values are in numerical form. So let's convert the feature into **object** type."
      ]
    },
    {
      "metadata": {
        "id": "-Hzw9oCU_AW3",
        "colab_type": "code",
        "colab": {
          "base_uri": "https://localhost:8080/",
          "height": 0
        },
        "outputId": "7566cab1-d25d-464a-a99d-e7a7d6c96791"
      },
      "cell_type": "code",
      "source": [
        "train_examples[\"MSSubClass\"] = train_examples[\"MSSubClass\"].astype(\"object\")\n",
        "describe_feature(\"MSSubClass\", train_examples)"
      ],
      "execution_count": 12,
      "outputs": [
        {
          "output_type": "stream",
          "text": [
            "count     1460\n",
            "unique      15\n",
            "top         20\n",
            "freq       536\n",
            "Name: MSSubClass, dtype: int64\n",
            "Missing values:\n",
            "False    1460\n",
            "Name: MSSubClass, dtype: int64\n"
          ],
          "name": "stdout"
        }
      ]
    },
    {
      "metadata": {
        "id": "VVycm726EXo3",
        "colab_type": "text"
      },
      "cell_type": "markdown",
      "source": [
        "There is no missing values so we don't have to concern about them.<br>\n",
        "\n",
        "As show above, there are 15 unique values, too much for the model to handle. We probably should reduce the number of unique values in some ways.<br>\n",
        "To get better insights of the feature, we will visualize it to discover some correlations between **MSSubClass** and our target - **SalePrice**, if there is any:"
      ]
    },
    {
      "metadata": {
        "id": "CmPku-x49jdP",
        "colab_type": "code",
        "colab": {}
      },
      "cell_type": "code",
      "source": [
        "# Create a function to plot countplot and boxplot at the same time:\n",
        "def count_box_plot(feature, data = train_data):\n",
        "  fig = plt.figure(figsize = (20, 5)) \n",
        "  ax1 = plt.subplot(121)  \n",
        "  sns.countplot(x = feature, data = data, ax = ax1)\n",
        "  ax1.set_title(feature + \"count\")\n",
        "  \n",
        "  ax2 = plt.subplot(122)\n",
        "  sns.boxplot(x = feature, y = \"SalePrice\", data = data, ax = ax2)\n",
        "  ax2.set_title(feature + \"vs SalePrice boxplot\")\n",
        "  plt.show()"
      ],
      "execution_count": 0,
      "outputs": []
    },
    {
      "metadata": {
        "id": "3HbWv9dZIQXO",
        "colab_type": "code",
        "colab": {
          "base_uri": "https://localhost:8080/",
          "height": 0
        },
        "outputId": "db95b7ce-58bb-461f-9244-c31cec946fff"
      },
      "cell_type": "code",
      "source": [
        "count_box_plot(\"MSSubClass\", data = train_examples)"
      ],
      "execution_count": 14,
      "outputs": [
        {
          "output_type": "display_data",
          "data": {
            "image/png": "[encoded data removed]",
            "text/plain": [
              "<Figure size 1440x360 with 2 Axes>"
            ]
          },
          "metadata": {
            "tags": []
          }
        }
      ]
    },
    {
      "metadata": {
        "id": "MGpd7OiDFD9d",
        "colab_type": "text"
      },
      "cell_type": "markdown",
      "source": [
        "As we can see, the data distributes in some classes, such as **1-Story** and **2-Story**. In each classes, there are also few subclasses: **NEWER**, **OLDER** and **ALL AGES**.<br>\n",
        "According to the boxplot, we can see that 1-Story NEWERs are very differ from 1-Story OLDERs. Same pattern can be found in other classes. Therefore, it's a good idea to group all the NEWER, OLDER and ALL AGES observations together."
      ]
    },
    {
      "metadata": {
        "id": "HHzSfqhTREIo",
        "colab_type": "code",
        "colab": {}
      },
      "cell_type": "code",
      "source": [
        "# Define a fucntion to transform the feature:\n",
        "def transform_MSSubClass(x):\n",
        "  classes = {\"NEWER\" : [20, 60, 120, 160],\n",
        "         \"OLDER\" : [30, 70],         \n",
        "          \"ALL-AGES\" : [40, 45, 50, 75, 90, 150, 190],          \n",
        "          \"SPLIT\" : [80, 85, 180]}  \n",
        "  for key, values in classes.items():\n",
        "    if x in values:\n",
        "      return key\n",
        "  return \"RARE\""
      ],
      "execution_count": 0,
      "outputs": []
    },
    {
      "metadata": {
        "id": "JY-2rX0mRxu3",
        "colab_type": "code",
        "colab": {
          "base_uri": "https://localhost:8080/",
          "height": 0
        },
        "outputId": "a6072210-63d1-4975-9ed3-79eaeddbaeb7"
      },
      "cell_type": "code",
      "source": [
        "train_examples[\"MSSubClass\"] = train_examples[\"MSSubClass\"].apply(lambda x: transform_MSSubClass(x))\n",
        "train_examples[\"MSSubClass\"].describe()"
      ],
      "execution_count": 16,
      "outputs": [
        {
          "output_type": "execute_result",
          "data": {
            "text/plain": [
              "count      1460\n",
              "unique        4\n",
              "top       NEWER\n",
              "freq        985\n",
              "Name: MSSubClass, dtype: object"
            ]
          },
          "metadata": {
            "tags": []
          },
          "execution_count": 16
        }
      ]
    },
    {
      "metadata": {
        "id": "uu5TEpNsgivz",
        "colab_type": "text"
      },
      "cell_type": "markdown",
      "source": [
        "**Now let's plot the data again to see how the changes take effect:**"
      ]
    },
    {
      "metadata": {
        "id": "Bui2Kgu1gxlQ",
        "colab_type": "code",
        "colab": {
          "base_uri": "https://localhost:8080/",
          "height": 0
        },
        "outputId": "ded2c9d6-e7d0-4542-885f-28c0c8722df7"
      },
      "cell_type": "code",
      "source": [
        "count_box_plot(\"MSSubClass\", data = train_examples)"
      ],
      "execution_count": 17,
      "outputs": [
        {
          "output_type": "display_data",
          "data": {
            "image/png": "[encoded data removed]",
            "text/plain": [
              "<Figure size 1440x360 with 2 Axes>"
            ]
          },
          "metadata": {
            "tags": []
          }
        }
      ]
    },
    {
      "metadata": {
        "id": "XvSxNyqYiJUt",
        "colab_type": "text"
      },
      "cell_type": "markdown",
      "source": [
        "As we can see, we have managed to reduce the number of unique values as well as keep the classes seperate.<br>\n",
        "In order to train the model, we need to convert the values to numerical data. **One-hot encoding** is the best option for this type of feature.<br>\n",
        "**Summary:**\n",
        "* Grouping the values\n",
        "* One-hot encoding"
      ]
    },
    {
      "metadata": {
        "id": "if5CejCCiqvF",
        "colab_type": "text"
      },
      "cell_type": "markdown",
      "source": [
        "### MSZoning"
      ]
    },
    {
      "metadata": {
        "id": "HItHXP1zj8RB",
        "colab_type": "code",
        "colab": {
          "base_uri": "https://localhost:8080/",
          "height": 0
        },
        "outputId": "b99b2b15-a654-43b9-ad56-af5353e066e1"
      },
      "cell_type": "code",
      "source": [
        "# Take a look at the feature:\n",
        "show_details(\"MSZoning\")"
      ],
      "execution_count": 18,
      "outputs": [
        {
          "output_type": "stream",
          "text": [
            "Feature name:  MSZoning\n",
            "Description:  Identifies the general zoning classification of the sale.\n",
            "\n",
            "Values: \n",
            "\t\t\n",
            "\n",
            "       A\tAgriculture\n",
            "\n",
            "       C\tCommercial\n",
            "\n",
            "       FV\tFloating Village Residential\n",
            "\n",
            "       I\tIndustrial\n",
            "\n",
            "       RH\tResidential High Density\n",
            "\n",
            "       RL\tResidential Low Density\n",
            "\n",
            "       RP\tResidential Low Density Park \n",
            "\n",
            "       RM\tResidential Medium Density\n",
            "\n",
            "\t\n",
            "\n",
            "count     1460\n",
            "unique       5\n",
            "top         RL\n",
            "freq      1151\n",
            "Name: MSZoning, dtype: object\n",
            "Missing values:\n",
            "False    1460\n",
            "Name: MSZoning, dtype: int64\n"
          ],
          "name": "stdout"
        }
      ]
    },
    {
      "metadata": {
        "id": "riHUB0D6kVzp",
        "colab_type": "text"
      },
      "cell_type": "markdown",
      "source": [
        "**Visualization**\n"
      ]
    },
    {
      "metadata": {
        "id": "HHBNb5dmkOW5",
        "colab_type": "code",
        "colab": {
          "base_uri": "https://localhost:8080/",
          "height": 0
        },
        "outputId": "f38767c1-95eb-47cf-c9b4-adc2c1ee9d33"
      },
      "cell_type": "code",
      "source": [
        "count_box_plot(\"MSZoning\", data = train_examples)"
      ],
      "execution_count": 19,
      "outputs": [
        {
          "output_type": "display_data",
          "data": {
            "image/png": "[encoded data removed]",
            "text/plain": [
              "<Figure size 1440x360 with 2 Axes>"
            ]
          },
          "metadata": {
            "tags": []
          }
        }
      ]
    },
    {
      "metadata": {
        "id": "ZjnN7psPljXm",
        "colab_type": "text"
      },
      "cell_type": "markdown",
      "source": [
        "Since the value **RH** appears only a few times, and it's not differ from the value **RM** much, so we can consider grouping them together.<br>\n",
        "Although **C (all)** only takes a small portion in the data distribution, it's very differ from the rest of the other values, so we will leave it untouched for now."
      ]
    },
    {
      "metadata": {
        "id": "3Rn7rWh3qcGc",
        "colab_type": "code",
        "colab": {}
      },
      "cell_type": "code",
      "source": [
        "# Replace the RH values by RM\n",
        "train_examples[\"MSZoning\"].replace(\"RH\", \"RM\", inplace = True)"
      ],
      "execution_count": 0,
      "outputs": []
    },
    {
      "metadata": {
        "id": "-GF9ECGQ9czr",
        "colab_type": "code",
        "colab": {
          "base_uri": "https://localhost:8080/",
          "height": 0
        },
        "outputId": "81f543b4-7e3f-4c47-86a3-6a9e670f3566"
      },
      "cell_type": "code",
      "source": [
        "# Plot the data again\n",
        "count_box_plot(feature = \"MSZoning\", data = train_examples)"
      ],
      "execution_count": 21,
      "outputs": [
        {
          "output_type": "display_data",
          "data": {
            "image/png": "[encoded data removed]",
            "text/plain": [
              "<Figure size 1440x360 with 2 Axes>"
            ]
          },
          "metadata": {
            "tags": []
          }
        }
      ]
    },
    {
      "metadata": {
        "id": "48Zx8PSXBTjL",
        "colab_type": "text"
      },
      "cell_type": "markdown",
      "source": [
        "As we can see, **MSZonging** is a good feature to use in our task. We can see that \"RL\" group has average pricing higer than the other, so instead of one-hot encoding them, we can map them to numerical values.<br>\n",
        "**Summary:**\n",
        "* Join \"RH\" and \"RM\" values together\n",
        "* Mapping the values to numerical values.\n",
        "<hr>"
      ]
    },
    {
      "metadata": {
        "id": "VggbSjG2Crnh",
        "colab_type": "text"
      },
      "cell_type": "markdown",
      "source": [
        "### LotFrontage"
      ]
    },
    {
      "metadata": {
        "id": "t9VY43yCDGHe",
        "colab_type": "code",
        "colab": {
          "base_uri": "https://localhost:8080/",
          "height": 340
        },
        "outputId": "2a9a2238-716e-4884-ded3-551e779df950"
      },
      "cell_type": "code",
      "source": [
        "# Take a look on the feature:\n",
        "show_details(\"LotFrontage\", data = train_examples)"
      ],
      "execution_count": 22,
      "outputs": [
        {
          "output_type": "stream",
          "text": [
            "Feature name:  LotFrontage\n",
            "Description:  Linear feet of street connected to property\n",
            "\n",
            "Values: \n",
            "\n",
            "\n",
            "count    1201.000000\n",
            "mean       70.049958\n",
            "std        24.284752\n",
            "min        21.000000\n",
            "25%        59.000000\n",
            "50%        69.000000\n",
            "75%        80.000000\n",
            "max       313.000000\n",
            "Name: LotFrontage, dtype: float64\n",
            "Missing values:\n",
            "False    1201\n",
            "True      259\n",
            "Name: LotFrontage, dtype: int64\n"
          ],
          "name": "stdout"
        }
      ]
    },
    {
      "metadata": {
        "id": "Sx7opEABETOD",
        "colab_type": "text"
      },
      "cell_type": "markdown",
      "source": [
        "**Visualization**<br>\n",
        "Let's see how the feature values distribute."
      ]
    },
    {
      "metadata": {
        "id": "LrDR_klOGd2P",
        "colab_type": "code",
        "colab": {
          "base_uri": "https://localhost:8080/",
          "height": 312
        },
        "outputId": "06dbcbc2-511d-4bf6-b634-f3c61b220fd2"
      },
      "cell_type": "code",
      "source": [
        "sns.distplot(a = train_examples[\"LotFrontage\"][train_examples[\"LotFrontage\"].notnull()])\n",
        "plt.title(\"LotFrontage distribution\")"
      ],
      "execution_count": 33,
      "outputs": [
        {
          "output_type": "execute_result",
          "data": {
            "text/plain": [
              "Text(0.5, 1.0, 'LotFrontage distribution')"
            ]
          },
          "metadata": {
            "tags": []
          },
          "execution_count": 33
        },
        {
          "output_type": "display_data",
          "data": {
            "image/png": "[encoded data removed]",
            "text/plain": [
              "<Figure size 432x288 with 1 Axes>"
            ]
          },
          "metadata": {
            "tags": []
          }
        }
      ]
    },
    {
      "metadata": {
        "id": "XpSLdEJ2G45o",
        "colab_type": "text"
      },
      "cell_type": "markdown",
      "source": [
        "There seems to be some outlines. We better to clip those outlines."
      ]
    },
    {
      "metadata": {
        "id": "EsQUxrrtG4mu",
        "colab_type": "code",
        "colab": {}
      },
      "cell_type": "code",
      "source": [
        "train_examples[\"LotFrontage\"] = train_examples[\"LotFrontage\"].apply(lambda x: min(x, 150))"
      ],
      "execution_count": 0,
      "outputs": []
    },
    {
      "metadata": {
        "id": "I29YVvfWEiS5",
        "colab_type": "code",
        "colab": {
          "base_uri": "https://localhost:8080/",
          "height": 621
        },
        "outputId": "53a293ac-0dd9-420e-cd01-e8ad4ed8d9b5"
      },
      "cell_type": "code",
      "source": [
        "fig = plt.figure(figsize = (10, 10))\n",
        "sns.lineplot(x = \"LotFrontage\", y = \"SalePrice\", data = train_examples, ci = None)\n",
        "plt.title(\"LotFrontage vs SalePrice\")\n",
        "plt.show()"
      ],
      "execution_count": 35,
      "outputs": [
        {
          "output_type": "display_data",
          "data": {
            "image/png": "[encoded data removed]",
            "text/plain": [
              "<Figure size 720x720 with 1 Axes>"
            ]
          },
          "metadata": {
            "tags": []
          }
        }
      ]
    },
    {
      "metadata": {
        "id": "7hUnKGidIoOZ",
        "colab_type": "text"
      },
      "cell_type": "markdown",
      "source": [
        "Although the values vary alot, we still see something similar to a linear correalation between the feature and the target from 40 to 120. And from the distribution plot, we can see a large portion of the values distribute in this very segment. So for now, we will just normalize the values.<br>"
      ]
    },
    {
      "metadata": {
        "id": "zMLuZv1SKnaj",
        "colab_type": "text"
      },
      "cell_type": "markdown",
      "source": [
        "**Missing values**<br>\n"
      ]
    },
    {
      "metadata": {
        "id": "cctbUZPAEiXr",
        "colab_type": "code",
        "colab": {}
      },
      "cell_type": "code",
      "source": [
        ""
      ],
      "execution_count": 0,
      "outputs": []
    }
  ]
}